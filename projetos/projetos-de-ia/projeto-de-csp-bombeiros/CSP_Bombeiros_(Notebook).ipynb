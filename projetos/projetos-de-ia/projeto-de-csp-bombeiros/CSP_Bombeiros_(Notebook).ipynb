{
  "nbformat": 4,
  "nbformat_minor": 0,
  "metadata": {
    "colab": {
      "provenance": []
    },
    "kernelspec": {
      "name": "python3",
      "display_name": "Python 3"
    },
    "language_info": {
      "name": "python"
    }
  },
  "cells": [
    {
      "cell_type": "code",
      "execution_count": null,
      "metadata": {
        "id": "O_HQHBTvYNuE"
      },
      "outputs": [],
      "source": [
        "!git clone https://github.com/RickyM7/meus-estudos-e-testes.git\n",
        "%cd meus-estudos-e-testes/projetos/projetos-de-ia/projeto-de-csp-bombeiros"
      ]
    },
    {
      "cell_type": "code",
      "source": [
        "# Teste Unitário\n",
        "!python CSP_Bombeiros.py"
      ],
      "metadata": {
        "id": "O3oHAIq2bq4G"
      },
      "execution_count": null,
      "outputs": []
    },
    {
      "cell_type": "code",
      "source": [
        "!python 'CSP - Bombeiros (Teste de Todas as Entradas).py'"
      ],
      "metadata": {
        "id": "tmM80LNxcDjR"
      },
      "execution_count": null,
      "outputs": []
    }
  ]
}